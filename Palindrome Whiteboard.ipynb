{
 "cells": [
  {
   "cell_type": "markdown",
   "id": "d2d14b71",
   "metadata": {},
   "source": [
    "#Given a string return True if the string can be rearranged to make a palindrome\n",
    "#a palindrome can be spelled the same forwards and backwards\n",
    "\n",
    "#### Input\n",
    "s1=\"aabbcc\"\n",
    "#### Output\n",
    "#### True\n",
    "\n",
    "#### Input\n",
    "s2=\"aabebcc\"\n",
    "#### Output\n",
    "#### True\n",
    "\n",
    "#### Input\n",
    "s3=\"racecar\"\n",
    "#### Output\n",
    "#### True\n",
    "\n",
    "#### Input\n",
    "s4=\"abcd\"\n",
    "#### Output\n",
    "#### False\n",
    "\n",
    "#### Input\n",
    "s5=\"aaabbbcc\"\n",
    "#### Output\n",
    "#### False"
   ]
  },
  {
   "cell_type": "code",
   "execution_count": 1,
   "id": "32e9360e",
   "metadata": {},
   "outputs": [],
   "source": [
    "def is_palindrom (word):\n",
    "    odd_letters = 0\n",
    "    for letter in word:\n",
    "        if letter == letter*2 :\n",
    "            return True\n",
    "        else:\n",
    "            return False "
   ]
  },
  {
   "cell_type": "code",
   "execution_count": null,
   "id": "3d654a5c",
   "metadata": {},
   "outputs": [],
   "source": [
    "def can_be_palindrome(a_string):\n",
    "    letters = []\n",
    "    for l in a_string:\n",
    "        if l in letters:\n",
    "            letters.remove(l)\n",
    "        else:\n",
    "            letters.append(l)\n",
    "    if len(a_string) % 2 == 0 and len(letters) == 0:\n",
    "        return True\n",
    "    elif len(a_string) % 2 == 1 and len(letters) == 1:\n",
    "        return True\n",
    "    return False"
   ]
  }
 ],
 "metadata": {
  "kernelspec": {
   "display_name": "Python 3 (ipykernel)",
   "language": "python",
   "name": "python3"
  },
  "language_info": {
   "codemirror_mode": {
    "name": "ipython",
    "version": 3
   },
   "file_extension": ".py",
   "mimetype": "text/x-python",
   "name": "python",
   "nbconvert_exporter": "python",
   "pygments_lexer": "ipython3",
   "version": "3.9.7"
  }
 },
 "nbformat": 4,
 "nbformat_minor": 5
}
